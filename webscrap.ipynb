{
 "cells": [
  {
   "cell_type": "markdown",
   "metadata": {
    "colab_type": "text",
    "id": "view-in-github"
   },
   "source": [
    "<a href=\"https://colab.research.google.com/github/ThulasiGopinath/SCT_SD_4/blob/main/webscrap.ipynb\" target=\"_parent\"><img src=\"https://colab.research.google.com/assets/colab-badge.svg\" alt=\"Open In Colab\"/></a>"
   ]
  },
  {
   "cell_type": "code",
   "execution_count": 1,
   "metadata": {
    "id": "vb88fdeDMHgs"
   },
   "outputs": [],
   "source": [
    "import requests"
   ]
  },
  {
   "cell_type": "code",
   "execution_count": 2,
   "metadata": {
    "id": "nVGim6ba6ijV"
   },
   "outputs": [],
   "source": [
    "from bs4 import BeautifulSoup"
   ]
  },
  {
   "cell_type": "code",
   "execution_count": 3,
   "metadata": {
    "id": "VHqN1KOQXz4n"
   },
   "outputs": [],
   "source": [
    "import pandas as pd"
   ]
  },
  {
   "cell_type": "code",
   "execution_count": 4,
   "metadata": {
    "colab": {
     "base_uri": "https://localhost:8080/"
    },
    "id": "6tXtNT1pHYZF",
    "outputId": "c15965cc-fdfd-4b70-8c6f-78142f9bc81b"
   },
   "outputs": [
    {
     "name": "stdout",
     "output_type": "stream",
     "text": [
      "57.31\n",
      "26.41\n",
      "47.61\n",
      "23.11\n",
      "45.07\n",
      "31.77\n",
      "50.27\n",
      "14.27\n",
      "44.18\n",
      "18.78\n",
      "25.52\n",
      "16.28\n",
      "31.12\n",
      "19.49\n",
      "17.27\n",
      "19.09\n",
      "56.13\n",
      "56.41\n",
      "56.5\n",
      "45.22\n",
      "57.31\n",
      "26.41\n",
      "47.61\n",
      "23.11\n",
      "45.07\n",
      "31.77\n",
      "50.27\n",
      "14.27\n",
      "44.18\n",
      "18.78\n",
      "25.52\n",
      "16.28\n",
      "31.12\n",
      "19.49\n",
      "17.27\n",
      "19.09\n",
      "56.13\n",
      "56.41\n",
      "56.5\n",
      "45.22\n",
      "57.31\n",
      "26.41\n",
      "47.61\n",
      "23.11\n",
      "45.07\n",
      "31.77\n",
      "50.27\n",
      "14.27\n",
      "44.18\n",
      "18.78\n",
      "25.52\n",
      "16.28\n",
      "31.12\n",
      "19.49\n",
      "17.27\n",
      "19.09\n",
      "56.13\n",
      "56.41\n",
      "56.5\n",
      "45.22\n",
      "57.31\n",
      "26.41\n",
      "47.61\n",
      "23.11\n",
      "45.07\n",
      "31.77\n",
      "50.27\n",
      "14.27\n",
      "44.18\n",
      "18.78\n",
      "25.52\n",
      "16.28\n",
      "31.12\n",
      "19.49\n",
      "17.27\n",
      "19.09\n",
      "56.13\n",
      "56.41\n",
      "56.5\n",
      "45.22\n"
     ]
    }
   ],
   "source": [
    "books = []\n",
    "for i in range (1,5):\n",
    "  url = \"https://books.toscrape.com/catalogue/page-3.html\"\n",
    "  response = requests.get(url)\n",
    "  response = response.content\n",
    "  soup = BeautifulSoup(response, 'html.parser')\n",
    "  ol = soup.find('ol')\n",
    "  articles = ol.find_all('article', class_='product_pod')\n",
    "\n",
    "  for article in articles:\n",
    "    image = article.find('img')\n",
    "    title = image.attrs['alt']\n",
    "    star = article.find('p')\n",
    "    star = star['class'][1]\n",
    "    price = article.find('p', class_='price_color').text\n",
    "    price = float(price[1:])\n",
    "    books.append([title, price, star])\n",
    "    print(price)"
   ]
  },
  {
   "cell_type": "code",
   "execution_count": 10,
   "metadata": {
    "id": "r3OGJE1QaHAs"
   },
   "outputs": [],
   "source": [
    "df = pd.DataFrame(books, columns=['Title', 'Price', 'Star Rating'] )"
   ]
  },
  {
   "cell_type": "code",
   "execution_count": 11,
   "metadata": {
    "id": "WlQerAIXapBe"
   },
   "outputs": [],
   "source": [
    "df.to_csv('books.csv')"
   ]
  },
  {
   "cell_type": "code",
   "execution_count": null,
   "metadata": {},
   "outputs": [],
   "source": []
  }
 ],
 "metadata": {
  "colab": {
   "authorship_tag": "ABX9TyOJpSzJaeOLUWawYsRqKX4X",
   "include_colab_link": true,
   "provenance": []
  },
  "kernelspec": {
   "display_name": "Python 3 (ipykernel)",
   "language": "python",
   "name": "python3"
  },
  "language_info": {
   "codemirror_mode": {
    "name": "ipython",
    "version": 3
   },
   "file_extension": ".py",
   "mimetype": "text/x-python",
   "name": "python",
   "nbconvert_exporter": "python",
   "pygments_lexer": "ipython3",
   "version": "3.12.3"
  }
 },
 "nbformat": 4,
 "nbformat_minor": 4
}
